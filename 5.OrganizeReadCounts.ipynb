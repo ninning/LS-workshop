{
 "cells": [
  {
   "cell_type": "markdown",
   "id": "d2d73c66-6b67-4bd0-9423-73b514efc06c",
   "metadata": {},
   "source": [
    "### Organize the read counts\n",
    "And at long last we have arrived at the final step.  \n",
    "Here we will take our deduped BAM file and organize the read counts by gene.  \n",
    "\n",
    "We will go through the reads and count up each instance of a transcript."
   ]
  },
  {
   "cell_type": "code",
   "execution_count": 1,
   "id": "b4e3e1f1-e979-43c9-82f7-3cbadacfc1e9",
   "metadata": {},
   "outputs": [],
   "source": [
    "import glob\n",
    "import pysam\n",
    "import pandas as pd\n",
    "import numpy as np"
   ]
  },
  {
   "cell_type": "code",
   "execution_count": 2,
   "id": "ac2203b9-b210-4286-bf46-44a1f9726320",
   "metadata": {},
   "outputs": [],
   "source": [
    "# We will make use of the `defaultdict` function which is a built-in python function.\n",
    "from collections import defaultdict"
   ]
  },
  {
   "cell_type": "code",
   "execution_count": 3,
   "id": "3e55046b-3d36-4249-bd09-65e52b3a39a9",
   "metadata": {},
   "outputs": [],
   "source": [
    "# For example if we have a list of genes like this\n",
    "temp_list = ['geneA', 'geneA', 'geneB', 'geneC', 'geneC', 'geneC']"
   ]
  },
  {
   "cell_type": "code",
   "execution_count": 4,
   "id": "a060b735-f371-4930-9f0c-0535e6c11278",
   "metadata": {},
   "outputs": [],
   "source": [
    "# We can loop through it and add each instance of an gene showing up\n",
    "temp_freq = defaultdict(lambda: 0)\n",
    "for gene in temp_list:\n",
    "    temp_freq[gene]+=1"
   ]
  },
  {
   "cell_type": "code",
   "execution_count": 5,
   "id": "c00c6de4-ff5c-45c4-bc9e-4a06b716830e",
   "metadata": {},
   "outputs": [
    {
     "data": {
      "text/plain": [
       "defaultdict(<function __main__.<lambda>()>,\n",
       "            {'geneA': 2, 'geneB': 1, 'geneC': 3})"
      ]
     },
     "execution_count": 5,
     "metadata": {},
     "output_type": "execute_result"
    }
   ],
   "source": [
    "temp_freq"
   ]
  },
  {
   "cell_type": "markdown",
   "id": "8131a336-0378-4e84-aaa9-28c67c0cdc2b",
   "metadata": {},
   "source": [
    "### Reading the GFF file\n",
    "We will take the gene name and gene type from the GFF file.  \n",
    "If you dont want the GTF file taking up space, you could premake a .csv file with geneID:geneName and reference that file instead of the GTF file.  \n",
    "We wont do that today."
   ]
  },
  {
   "cell_type": "code",
   "execution_count": 6,
   "id": "d20f3bb6-7519-45b5-aee9-e8e4d77a46a3",
   "metadata": {},
   "outputs": [],
   "source": [
    "GFF_FILE = 'gtf_file/gencode.vM27.annotation.gff3'\n",
    "\n",
    "def readGFF():\n",
    "    genes = {}\n",
    "    \n",
    "    print('Reading GFF file...')\n",
    "    with open(GFF_FILE) as gffHandle:\n",
    "        for line in gffHandle:\n",
    "            if line[0] != '#' and line.split('\\t')[2] == 'gene':\n",
    "                genes[line.split('gene_id=')[1].split(';')[0]] = line\n",
    "    \n",
    "    return genes"
   ]
  },
  {
   "cell_type": "code",
   "execution_count": 7,
   "id": "b0f12193-c9c9-4d8d-a4a4-70a27647fccd",
   "metadata": {},
   "outputs": [
    {
     "name": "stdout",
     "output_type": "stream",
     "text": [
      "Reading GFF file...\n"
     ]
    }
   ],
   "source": [
    "genes = readGFF()"
   ]
  },
  {
   "cell_type": "code",
   "execution_count": 8,
   "id": "6837783a-a7e4-4750-9f9a-a500b8fca5fb",
   "metadata": {},
   "outputs": [
    {
     "data": {
      "text/plain": [
       "{'ENSMUSG00000102693.2': 'chr1\\tHAVANA\\tgene\\t3143476\\t3144545\\t.\\t+\\t.\\tID=ENSMUSG00000102693.2;gene_id=ENSMUSG00000102693.2;gene_type=TEC;gene_name=4933401J01Rik;level=2;mgi_id=MGI:1918292;havana_gene=OTTMUSG00000049935.1\\n',\n",
       " 'ENSMUSG00000064842.3': 'chr1\\tENSEMBL\\tgene\\t3172239\\t3172348\\t.\\t+\\t.\\tID=ENSMUSG00000064842.3;gene_id=ENSMUSG00000064842.3;gene_type=snRNA;gene_name=Gm26206;level=3;mgi_id=MGI:5455983\\n'}"
      ]
     },
     "execution_count": 8,
     "metadata": {},
     "output_type": "execute_result"
    }
   ],
   "source": [
    "#lets just take a look at the first 2 pair values\n",
    "first2pairs = {k: genes[k] for k in list(genes)[:2]}\n",
    "first2pairs"
   ]
  },
  {
   "cell_type": "markdown",
   "id": "3662344a-b8ae-477b-a07f-5524a4f1fe8c",
   "metadata": {},
   "source": [
    "### LS-Data\n",
    "For Light-Seq, we have to parse out both the Barcode seq and the gene thats mapped to it.  \n",
    "If you recall, the barcode sequence is added into the header of an aligned read.  "
   ]
  },
  {
   "cell_type": "code",
   "execution_count": 9,
   "id": "31cae586-b437-4c05-ab83-ed600f463f1b",
   "metadata": {},
   "outputs": [],
   "source": [
    "# Lets create a dictionary with the gene counts.\n",
    "# We use a new defaultdict construction as we will have both the genename, barcodeseq, and genecounts\n",
    "frequencies = defaultdict(lambda: defaultdict(int)) # default to 0 count"
   ]
  },
  {
   "cell_type": "code",
   "execution_count": 10,
   "id": "3d6046c3-c096-4a4e-9bfd-6ad02a183e99",
   "metadata": {},
   "outputs": [
    {
     "name": "stdout",
     "output_type": "stream",
     "text": [
      "Reading outFiles/LS23A_Dedup.bam...\n"
     ]
    },
    {
     "name": "stderr",
     "output_type": "stream",
     "text": [
      "[E::idx_find_and_load] Could not retrieve index file for 'outFiles/LS23A_Dedup.bam'\n"
     ]
    }
   ],
   "source": [
    "DEDUP_FILES = sorted(glob.glob('outFiles/*_Dedup.bam')) #We only have one for this workshop\n",
    "OUT_FILE_FREQ = 'TranscriptFrequencies.csv'\n",
    "OUT_FILE = 'ReorderedLightSeq.csv'\n",
    "\n",
    "allGenes = []\n",
    "allConditionBarcodes = []\n",
    "# Create dictionary of gene frequencies\n",
    "for geneFile in DEDUP_FILES:  \n",
    "    print('Reading %s...' % geneFile)\n",
    "\n",
    "    condition = geneFile.split('/')[-1].split('_Dedup')[0]\n",
    "    samFile = pysam.AlignmentFile(geneFile, \"rb\")\n",
    "    samIter = samFile.fetch(until_eof=True)\n",
    "\n",
    "    for read in samIter:\n",
    "        barcodeSeq = read.query_name.split('_')[1]\n",
    "        geneName = read.get_tag('XT')\n",
    "\n",
    "        condBar = '%s/%s' % (condition, barcodeSeq)\n",
    "\n",
    "        frequencies[geneName][condBar] += 1\n",
    "\n",
    "        if not condBar in allConditionBarcodes:\n",
    "            allConditionBarcodes.append(condBar)\n",
    "\n",
    "# Now, create CSV\n",
    "allData = defaultdict(list)\n",
    "\n",
    "allData['Gene'] = frequencies.keys()"
   ]
  },
  {
   "cell_type": "markdown",
   "id": "dccfb63d-2111-4054-a3e9-577158f771c6",
   "metadata": {},
   "source": [
    "We have looped through an entire BAM file and organized the gene counts from it.  \n",
    "Lets go through the last read and which items we parsed out from it."
   ]
  },
  {
   "cell_type": "code",
   "execution_count": 11,
   "id": "49f1595f-f199-4910-aad4-a78aaa8040bc",
   "metadata": {},
   "outputs": [
    {
     "name": "stdout",
     "output_type": "stream",
     "text": [
      "M01675:146:000000000-JNRMM:1:2115:11772:2527_AGGGTA_ATAGTCTAAAAA\t16\t#21\t15244\t255\t40M\t*\t0\t0\tCAATCTCAGGAATTATCGAAGACAAAATACTAAAATTATA\tarray('B', [34, 11, 36, 26, 34, 24, 38, 38, 38, 38, 38, 38, 35, 38, 37, 38, 38, 38, 38, 37, 32, 38, 38, 38, 38, 38, 38, 38, 37, 37, 37, 32, 36, 38, 37, 37, 34, 38, 37, 37])\t[('NH', 1), ('HI', 1), ('AS', 39), ('nM', 0), ('XS', 'Assigned'), ('XN', 1), ('XT', 'ENSMUSG00000064370.1')]\n"
     ]
    }
   ],
   "source": [
    "#this is the last read in our for loop\n",
    "print(read)"
   ]
  },
  {
   "cell_type": "code",
   "execution_count": 12,
   "id": "ca69aa21-f214-4695-bf6c-21429ef7d77b",
   "metadata": {},
   "outputs": [
    {
     "name": "stdout",
     "output_type": "stream",
     "text": [
      "AGGGTA\n",
      "ENSMUSG00000064370.1\n",
      "LS23A/AGGGTA\n"
     ]
    }
   ],
   "source": [
    "# For each read we parsed out the genename, barcode seq, and its condition(its filename).\n",
    "# We used the the pysam functions to parse out this info.\n",
    "print(barcodeSeq)\n",
    "print(geneName)\n",
    "print(condBar)"
   ]
  },
  {
   "cell_type": "code",
   "execution_count": 13,
   "id": "04c57b0c-2455-4159-91c1-ac4a3b1b2a8b",
   "metadata": {},
   "outputs": [
    {
     "data": {
      "text/plain": [
       "13161"
      ]
     },
     "execution_count": 13,
     "metadata": {},
     "output_type": "execute_result"
    }
   ],
   "source": [
    "# Our frequencies dictionary has about this many items, which is the number of genes it mapped to\n",
    "len(frequencies)"
   ]
  },
  {
   "cell_type": "code",
   "execution_count": 14,
   "id": "da52b17e-f96f-4d81-b7eb-560cc78498db",
   "metadata": {},
   "outputs": [
    {
     "data": {
      "text/plain": [
       "defaultdict(int, {'LS23A/AGGGTA': 1657, 'LS23A/GTTAGG': 592})"
      ]
     },
     "execution_count": 14,
     "metadata": {},
     "output_type": "execute_result"
    }
   ],
   "source": [
    "# If we search for a specific gene, we'll just take the assigned gene from our last read. \n",
    "# We can see how many counts mapped to which barcode\n",
    "frequencies.get('ENSMUSG00000064370.1')"
   ]
  },
  {
   "cell_type": "code",
   "execution_count": 15,
   "id": "c4872b1b-4915-48b8-b97e-e7250c866bf3",
   "metadata": {},
   "outputs": [
    {
     "name": "stdout",
     "output_type": "stream",
     "text": [
      "Compiling data...\n"
     ]
    }
   ],
   "source": [
    "# The next set of scripts will now reference the \"genes\" dictionary that we created from the GFF file to assign gene names\n",
    "# It will also append the genecounts and our conditions to the growing dataframe.\n",
    "allData = defaultdict(list)\n",
    "allData['Gene'] = frequencies.keys()\n",
    "\n",
    "print('Compiling data...')\n",
    "for gene in allData['Gene']:\n",
    "    allData['Gene name'].append(genes[gene].split('gene_name=')[1] \\\n",
    "                                                            .split(';')[0])\n",
    "    for condBar in allConditionBarcodes:\n",
    "        allData[condBar].append(frequencies[gene][condBar])\n",
    "\n",
    "lightFreqs = pd.DataFrame.from_dict(allData)\n",
    "lightFreqs.to_csv(OUT_FILE_FREQ, index=False)"
   ]
  },
  {
   "cell_type": "code",
   "execution_count": 16,
   "id": "7b84e2b7-ee9c-41d0-9731-10273a6f05e6",
   "metadata": {},
   "outputs": [
    {
     "data": {
      "text/html": [
       "<div>\n",
       "<style scoped>\n",
       "    .dataframe tbody tr th:only-of-type {\n",
       "        vertical-align: middle;\n",
       "    }\n",
       "\n",
       "    .dataframe tbody tr th {\n",
       "        vertical-align: top;\n",
       "    }\n",
       "\n",
       "    .dataframe thead th {\n",
       "        text-align: right;\n",
       "    }\n",
       "</style>\n",
       "<table border=\"1\" class=\"dataframe\">\n",
       "  <thead>\n",
       "    <tr style=\"text-align: right;\">\n",
       "      <th></th>\n",
       "      <th>Gene</th>\n",
       "      <th>Gene name</th>\n",
       "      <th>LS23A/AGGGTA</th>\n",
       "      <th>LS23A/GTTAGG</th>\n",
       "    </tr>\n",
       "  </thead>\n",
       "  <tbody>\n",
       "    <tr>\n",
       "      <th>0</th>\n",
       "      <td>ENSMUSG00000051951.6</td>\n",
       "      <td>Xkr4</td>\n",
       "      <td>9</td>\n",
       "      <td>3</td>\n",
       "    </tr>\n",
       "    <tr>\n",
       "      <th>1</th>\n",
       "      <td>ENSMUSG00000103377.2</td>\n",
       "      <td>Gm37180</td>\n",
       "      <td>4</td>\n",
       "      <td>0</td>\n",
       "    </tr>\n",
       "    <tr>\n",
       "      <th>2</th>\n",
       "      <td>ENSMUSG00000104017.2</td>\n",
       "      <td>Gm37363</td>\n",
       "      <td>2</td>\n",
       "      <td>0</td>\n",
       "    </tr>\n",
       "    <tr>\n",
       "      <th>3</th>\n",
       "      <td>ENSMUSG00000103025.2</td>\n",
       "      <td>Gm37686</td>\n",
       "      <td>1</td>\n",
       "      <td>0</td>\n",
       "    </tr>\n",
       "    <tr>\n",
       "      <th>4</th>\n",
       "      <td>ENSMUSG00000103201.2</td>\n",
       "      <td>Gm37329</td>\n",
       "      <td>2</td>\n",
       "      <td>0</td>\n",
       "    </tr>\n",
       "    <tr>\n",
       "      <th>...</th>\n",
       "      <td>...</td>\n",
       "      <td>...</td>\n",
       "      <td>...</td>\n",
       "      <td>...</td>\n",
       "    </tr>\n",
       "    <tr>\n",
       "      <th>13156</th>\n",
       "      <td>ENSMUSG00000064357.1</td>\n",
       "      <td>mt-Atp6</td>\n",
       "      <td>1</td>\n",
       "      <td>0</td>\n",
       "    </tr>\n",
       "    <tr>\n",
       "      <th>13157</th>\n",
       "      <td>ENSMUSG00000064363.1</td>\n",
       "      <td>mt-Nd4</td>\n",
       "      <td>860</td>\n",
       "      <td>308</td>\n",
       "    </tr>\n",
       "    <tr>\n",
       "      <th>13158</th>\n",
       "      <td>ENSMUSG00000064367.1</td>\n",
       "      <td>mt-Nd5</td>\n",
       "      <td>1150</td>\n",
       "      <td>459</td>\n",
       "    </tr>\n",
       "    <tr>\n",
       "      <th>13159</th>\n",
       "      <td>ENSMUSG00000064368.1</td>\n",
       "      <td>mt-Nd6</td>\n",
       "      <td>470</td>\n",
       "      <td>226</td>\n",
       "    </tr>\n",
       "    <tr>\n",
       "      <th>13160</th>\n",
       "      <td>ENSMUSG00000064370.1</td>\n",
       "      <td>mt-Cytb</td>\n",
       "      <td>1657</td>\n",
       "      <td>592</td>\n",
       "    </tr>\n",
       "  </tbody>\n",
       "</table>\n",
       "<p>13161 rows × 4 columns</p>\n",
       "</div>"
      ],
      "text/plain": [
       "                       Gene Gene name  LS23A/AGGGTA  LS23A/GTTAGG\n",
       "0      ENSMUSG00000051951.6      Xkr4             9             3\n",
       "1      ENSMUSG00000103377.2   Gm37180             4             0\n",
       "2      ENSMUSG00000104017.2   Gm37363             2             0\n",
       "3      ENSMUSG00000103025.2   Gm37686             1             0\n",
       "4      ENSMUSG00000103201.2   Gm37329             2             0\n",
       "...                     ...       ...           ...           ...\n",
       "13156  ENSMUSG00000064357.1   mt-Atp6             1             0\n",
       "13157  ENSMUSG00000064363.1    mt-Nd4           860           308\n",
       "13158  ENSMUSG00000064367.1    mt-Nd5          1150           459\n",
       "13159  ENSMUSG00000064368.1    mt-Nd6           470           226\n",
       "13160  ENSMUSG00000064370.1   mt-Cytb          1657           592\n",
       "\n",
       "[13161 rows x 4 columns]"
      ]
     },
     "execution_count": 16,
     "metadata": {},
     "output_type": "execute_result"
    }
   ],
   "source": [
    "lightFreqs"
   ]
  },
  {
   "cell_type": "code",
   "execution_count": 17,
   "id": "ced7f592-fe4b-4642-8be6-3b03c9a23c77",
   "metadata": {},
   "outputs": [],
   "source": [
    "# Now, re-order data according to layer, replicate information\n",
    "# Right now this part has to be manually entered in. \n",
    "# I have updated scripts so that we dont have to change the python script everytime we do a new experiment\n",
    "# But for this workshop, we will use exactly what written in the github repo.\n",
    "\n",
    "del lightFreqs['Gene']\n",
    "lightFreqs.rename(columns={'Gene name': 'Gene',\n",
    "                         'LS23A/GTTAGG': 'Th_1',\n",
    "                         'LS23A/AGGGTA': 'Am_1'},\n",
    "                  inplace=True)\n",
    "\n",
    "lightFreqs = lightFreqs[['Gene', 'Th_1', 'Am_1']]\n",
    "\n",
    "lightFreqs.set_index('Gene', inplace=True)\n",
    "# Add together counts with duplicate indices\n",
    "lightFreqs = lightFreqs.groupby(lightFreqs.index).sum()\n",
    "\n",
    "lightFreqs.to_csv(OUT_FILE)\n"
   ]
  },
  {
   "cell_type": "code",
   "execution_count": 18,
   "id": "e10dea15-88bb-4826-ad1e-4be1b110592b",
   "metadata": {},
   "outputs": [
    {
     "data": {
      "text/html": [
       "<div>\n",
       "<style scoped>\n",
       "    .dataframe tbody tr th:only-of-type {\n",
       "        vertical-align: middle;\n",
       "    }\n",
       "\n",
       "    .dataframe tbody tr th {\n",
       "        vertical-align: top;\n",
       "    }\n",
       "\n",
       "    .dataframe thead th {\n",
       "        text-align: right;\n",
       "    }\n",
       "</style>\n",
       "<table border=\"1\" class=\"dataframe\">\n",
       "  <thead>\n",
       "    <tr style=\"text-align: right;\">\n",
       "      <th></th>\n",
       "      <th>Th_1</th>\n",
       "      <th>Am_1</th>\n",
       "    </tr>\n",
       "    <tr>\n",
       "      <th>Gene</th>\n",
       "      <th></th>\n",
       "      <th></th>\n",
       "    </tr>\n",
       "  </thead>\n",
       "  <tbody>\n",
       "    <tr>\n",
       "      <th>0610009B22Rik</th>\n",
       "      <td>0</td>\n",
       "      <td>2</td>\n",
       "    </tr>\n",
       "    <tr>\n",
       "      <th>0610010F05Rik</th>\n",
       "      <td>2</td>\n",
       "      <td>5</td>\n",
       "    </tr>\n",
       "    <tr>\n",
       "      <th>0610012G03Rik</th>\n",
       "      <td>0</td>\n",
       "      <td>1</td>\n",
       "    </tr>\n",
       "    <tr>\n",
       "      <th>0610030E20Rik</th>\n",
       "      <td>0</td>\n",
       "      <td>1</td>\n",
       "    </tr>\n",
       "    <tr>\n",
       "      <th>0710001A04Rik</th>\n",
       "      <td>0</td>\n",
       "      <td>3</td>\n",
       "    </tr>\n",
       "    <tr>\n",
       "      <th>...</th>\n",
       "      <td>...</td>\n",
       "      <td>...</td>\n",
       "    </tr>\n",
       "    <tr>\n",
       "      <th>mt-Tf</th>\n",
       "      <td>2</td>\n",
       "      <td>0</td>\n",
       "    </tr>\n",
       "    <tr>\n",
       "      <th>mt-Tl1</th>\n",
       "      <td>3</td>\n",
       "      <td>4</td>\n",
       "    </tr>\n",
       "    <tr>\n",
       "      <th>mt-Tm</th>\n",
       "      <td>11</td>\n",
       "      <td>31</td>\n",
       "    </tr>\n",
       "    <tr>\n",
       "      <th>mt-Tq</th>\n",
       "      <td>0</td>\n",
       "      <td>1</td>\n",
       "    </tr>\n",
       "    <tr>\n",
       "      <th>mt-Tv</th>\n",
       "      <td>4</td>\n",
       "      <td>8</td>\n",
       "    </tr>\n",
       "  </tbody>\n",
       "</table>\n",
       "<p>13145 rows × 2 columns</p>\n",
       "</div>"
      ],
      "text/plain": [
       "               Th_1  Am_1\n",
       "Gene                     \n",
       "0610009B22Rik     0     2\n",
       "0610010F05Rik     2     5\n",
       "0610012G03Rik     0     1\n",
       "0610030E20Rik     0     1\n",
       "0710001A04Rik     0     3\n",
       "...             ...   ...\n",
       "mt-Tf             2     0\n",
       "mt-Tl1            3     4\n",
       "mt-Tm            11    31\n",
       "mt-Tq             0     1\n",
       "mt-Tv             4     8\n",
       "\n",
       "[13145 rows x 2 columns]"
      ]
     },
     "execution_count": 18,
     "metadata": {},
     "output_type": "execute_result"
    }
   ],
   "source": [
    "lightFreqs"
   ]
  },
  {
   "cell_type": "code",
   "execution_count": null,
   "id": "3c24cfb6-62b0-48dd-8159-96fa66c24807",
   "metadata": {},
   "outputs": [],
   "source": []
  }
 ],
 "metadata": {
  "kernelspec": {
   "display_name": "LSEnv",
   "language": "python",
   "name": "lsenv"
  },
  "language_info": {
   "codemirror_mode": {
    "name": "ipython",
    "version": 3
   },
   "file_extension": ".py",
   "mimetype": "text/x-python",
   "name": "python",
   "nbconvert_exporter": "python",
   "pygments_lexer": "ipython3",
   "version": "3.7.5"
  }
 },
 "nbformat": 4,
 "nbformat_minor": 5
}
