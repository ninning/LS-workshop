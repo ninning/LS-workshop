{
 "cells": [
  {
   "cell_type": "markdown",
   "id": "5e53cc38-c0b7-4d9e-8585-e60c1ea44d4d",
   "metadata": {},
   "source": [
    "### First step in the pipeline: Extracting barcodes  \n",
    "We use the \"umi-tools\" package to parse out our barcodes from the fastq files.  \n",
    "https://umi-tools.readthedocs.io/en/latest/QUICK_START.html  \n",
    "\n",
    "Umi-tools was orignally designed to parse out barcodes from large sets of scRNA-seq data,  \n",
    "so we will end up using their naming conventions (e.g. \"cell_barcode\") for Light-Seq."
   ]
  },
  {
   "cell_type": "code",
   "execution_count": 1,
   "id": "4ad9e3c6-e5cd-4fc3-8932-a4fd29ebb282",
   "metadata": {},
   "outputs": [
    {
     "name": "stdout",
     "output_type": "stream",
     "text": [
      "For full UMI-tools documentation, see: https://umi-tools.readthedocs.io/en/latest/\n",
      "\n",
      "\n",
      "umi_tools.py - Tools for UMI analyses\n",
      "===============================================\n",
      "\n",
      ":Author: Tom Smith & Ian Sudbury, CGAT\n",
      ":Release: $Id$\n",
      ":Date: |today|\n",
      ":Tags: Genomics UMI\n",
      "\n",
      "There are 6 tools:\n",
      "\n",
      "  - whitelist\n",
      "  - extract\n",
      "  - group\n",
      "  - dedup\n",
      "  - count\n",
      "  - count_tab\n",
      "\n",
      "To get help on a specific tool, type:\n",
      "\n",
      "    umi_tools <tool> --help\n",
      "\n",
      "To use a specific tool, type::\n",
      "\n",
      "    umi_tools <tool> [tool options] [tool arguments]\n",
      "\n"
     ]
    }
   ],
   "source": [
    "# If you run \"umi_tools\" in your terminal, you should get a set of options.\n",
    "# We will be using the \"extract option\"\n",
    "!umi_tools"
   ]
  },
  {
   "cell_type": "markdown",
   "id": "59491de7-5ae9-4a47-8b64-ccc96b21cfe1",
   "metadata": {},
   "source": [
    "### Regex patterns\n",
    "The barcode extraction method that we use with umi_tools is the \"regex\" method which uses the built-in \"regex\" python module.  \n",
    "Regex is almost its own language and does have a slight learning curve.  \n",
    "\n",
    "Below I will give the regex pattern that we use for light-seq and introduce the regex101.com website for a more visual representation of what its doing.  \n",
    "Note: regex101 doesnt seem to handle the regex fuzzy seach parameter very well so we will just ignore that for now.  \n",
    "https://regex101.com/r/R3AlWj/1"
   ]
  },
  {
   "cell_type": "code",
   "execution_count": 2,
   "id": "9c77032e-00a0-419d-81b2-03681fe97968",
   "metadata": {},
   "outputs": [],
   "source": [
    "import os\n",
    "import regex"
   ]
  },
  {
   "cell_type": "code",
   "execution_count": 3,
   "id": "b3d06454-e2c0-41d9-b470-bcf7d6049d4b",
   "metadata": {},
   "outputs": [],
   "source": [
    "barcodePattern = '^(?P<umi_1>.{12})' \\\n",
    "               '(?P<discard_1>.*)' \\\n",
    "               '(?P<cell_1>GTTAGG|AGGGTA)' \\\n",
    "               '(?P<discard_2>TGAGTTAT){s<=2}' \\\n",
    "               '(?P<discard_3>.{8})' \\\n",
    "               '.{15,40}+' \\\n",
    "               '(?P<discard_4>AAAAAAAAAAA.*|CTGTCTCTTAT.*|.*$)'"
   ]
  },
  {
   "cell_type": "code",
   "execution_count": 4,
   "id": "9b76a4c8-bbcb-4173-b396-bbf0054f751d",
   "metadata": {},
   "outputs": [
    {
     "data": {
      "text/plain": [
       "'^(?P<umi_1>.{12})(?P<discard_1>.*)(?P<cell_1>GTTAGG|AGGGTA)(?P<discard_2>TGAGTTAT){s<=2}(?P<discard_3>.{8}).{15,40}+(?P<discard_4>AAAAAAAAAAA.*|CTGTCTCTTAT.*|.*$)'"
      ]
     },
     "execution_count": 4,
     "metadata": {},
     "output_type": "execute_result"
    }
   ],
   "source": [
    "barcodePattern"
   ]
  },
  {
   "cell_type": "code",
   "execution_count": 5,
   "id": "8a5c1334-734e-487e-8e42-58c0d421a4fb",
   "metadata": {},
   "outputs": [],
   "source": [
    "# Lets run a regex search on an example sequence\n",
    "seq = 'GAAGGGAGTGTAAGGGTANGAGTTATAGTCTGTCTCTTATACACATCTCCGAGCCCACGAGACTAAGGCGAACCTCGTATGCCGTCTTCTGCTTGAAAAA'"
   ]
  },
  {
   "cell_type": "code",
   "execution_count": 6,
   "id": "756b4c4d-1396-43b1-8ea2-1be517959124",
   "metadata": {},
   "outputs": [
    {
     "data": {
      "text/plain": [
       "<regex.Match object; span=(0, 100), match='GAAGGGAGTGTAAGGGTANGAGTTATAGTCTGTCTCTTATACACATCTCCGAGCCCACGAGACTAAGGCGAACCTCGTATGCCGTCTTCTGCTTGAAAAA', fuzzy_counts=(1, 0, 0)>"
      ]
     },
     "execution_count": 6,
     "metadata": {},
     "output_type": "execute_result"
    }
   ],
   "source": [
    "match = regex.search(barcodePattern, seq)\n",
    "match"
   ]
  },
  {
   "cell_type": "code",
   "execution_count": 7,
   "id": "26811d59-4d6a-4a79-bb47-e03057e8c635",
   "metadata": {},
   "outputs": [
    {
     "data": {
      "text/plain": [
       "{'umi_1': 'GAAGGGAGTGTA',\n",
       " 'discard_1': '',\n",
       " 'cell_1': 'AGGGTA',\n",
       " 'discard_2': 'NGAGTTAT',\n",
       " 'discard_3': 'AGTCTGTC',\n",
       " 'discard_4': 'TCGTATGCCGTCTTCTGCTTGAAAAA'}"
      ]
     },
     "execution_count": 7,
     "metadata": {},
     "output_type": "execute_result"
    }
   ],
   "source": [
    "# Umi-tools parses the fastq file based on the entries for each of the regex search groups. e.g.\"umi_1\" etc...\n",
    "# Therefore its better to just use the umi-tools naming convention to avoid headaches.\n",
    "match.groupdict()"
   ]
  },
  {
   "cell_type": "code",
   "execution_count": 8,
   "id": "10eeafeb-af5b-4129-acb3-6e42d1e2f805",
   "metadata": {},
   "outputs": [
    {
     "data": {
      "text/plain": [
       "'GAAGGGAGTGTA'"
      ]
     },
     "execution_count": 8,
     "metadata": {},
     "output_type": "execute_result"
    }
   ],
   "source": [
    "match.groupdict().get('umi_1')"
   ]
  },
  {
   "cell_type": "code",
   "execution_count": 9,
   "id": "c4feb932-e925-41b3-8be1-d84a10a32817",
   "metadata": {},
   "outputs": [],
   "source": [
    "# Lets Parse a file then!!!\n",
    "OUT_DIR = 'outFiles/'\n",
    "inFile = 'inFiles/TLS23A_S1_L001_R1_001.fastq.gz'\n",
    "filePrefix = '%s%s' % (OUT_DIR, inFile.split('/')[-1].split('_')[0])\n",
    "trimmedR1File = '%s_R1_trimmed.fastq.gz' % filePrefix"
   ]
  },
  {
   "cell_type": "code",
   "execution_count": 10,
   "id": "467aebfd-d9a1-4e71-9775-3b11ce64d249",
   "metadata": {},
   "outputs": [],
   "source": [
    "def parseSequences(inFile, filePrefix, trimmedR1File):\n",
    "    \n",
    "    print('Analyzing %s...' % inFile.split('_R1')[0])\n",
    "    barcodePattern = '^(?P<umi_1>.{12})' \\\n",
    "                   '(?P<discard_1>.*)' \\\n",
    "                   '(?P<cell_1>GTTAGG|AGGGTA)' \\\n",
    "                   '(?P<discard_2>TGAGTTAT){s<=2}' \\\n",
    "                   '(?P<discard_3>.{8})' \\\n",
    "                   '.{15,40}+' \\\n",
    "                   '(?P<discard_4>AAAAAAAAAAA.*|CTGTCTCTTAT.*|.*$)'\n",
    "\n",
    "    # Extract UMIs and barcodes\n",
    "    extractLogFile = '%s_extract.log' % filePrefix\n",
    "\n",
    "    os.system(('umi_tools extract --stdin %s --extract-method=regex ' \\\n",
    "              '--bc-pattern=\"%s\" -L %s --stdout %s') % \\\n",
    "              (inFile, barcodePattern, extractLogFile, trimmedR1File))"
   ]
  },
  {
   "cell_type": "code",
   "execution_count": 11,
   "id": "42a5187f-7319-4cfe-8123-d8f8ca8a98e3",
   "metadata": {},
   "outputs": [
    {
     "name": "stdout",
     "output_type": "stream",
     "text": [
      "Analyzing inFiles/TLS23A_S1_L001...\n"
     ]
    }
   ],
   "source": [
    "# Note, this will take a few minutes on a local machine so i wont run this and bore you.\n",
    "parseSequences(inFile, filePrefix, trimmedR1File)"
   ]
  },
  {
   "cell_type": "code",
   "execution_count": 11,
   "id": "dfaf8500-a396-4c0c-96a3-49e219a9ec86",
   "metadata": {},
   "outputs": [
    {
     "name": "stdout",
     "output_type": "stream",
     "text": [
      "@M01675:146:000000000-JNRMM:1:1101:15250:1474_AGGGTA_GAAGGGAGTGTA 1:N:0:TAAGGCGA+NTCTCTAT\n",
      "TCTTATACACATCTCCGAGCCCACGAGACTAAGGCGAACC\n",
      "+\n",
      "GGGGGGGGGGGEFFCAF7FGGGFGDGCEGGGGGGGGGG+@\n"
     ]
    }
   ],
   "source": [
    "# We can take a look at the first parsed sequences.\n",
    "!zgrep '' outFiles/TLS23A_R1_trimmed.fastq.gz | head -n 4"
   ]
  },
  {
   "cell_type": "code",
   "execution_count": 12,
   "id": "320e9bd9-b015-4bef-b52f-9a63517eefc7",
   "metadata": {},
   "outputs": [
    {
     "name": "stdout",
     "output_type": "stream",
     "text": [
      "GAAGGGAGTGTAAGGGTANGAGTTATAGTCTGTCTCTTATACACATCTCCGAGCCCACGAGACTAAGGCGAACCTCGTATGCCGTCTTCTGCTTGAAAAA\n"
     ]
    },
    {
     "data": {
      "text/plain": [
       "{'umi_1': 'GAAGGGAGTGTA',\n",
       " 'discard_1': '',\n",
       " 'cell_1': 'AGGGTA',\n",
       " 'discard_2': 'NGAGTTAT',\n",
       " 'discard_3': 'AGTCTGTC',\n",
       " 'discard_4': 'TCGTATGCCGTCTTCTGCTTGAAAAA'}"
      ]
     },
     "execution_count": 12,
     "metadata": {},
     "output_type": "execute_result"
    }
   ],
   "source": [
    "# This is the original seq that was parsed out\n",
    "print(seq)\n",
    "match.groupdict()"
   ]
  },
  {
   "cell_type": "markdown",
   "id": "54259a66-41ac-457a-8e1f-0fbe435ab014",
   "metadata": {},
   "source": [
    "### Regex Fuzzy Search\n",
    "Regex also allows for a \"fuzzy search\" parameter, which means if a sequence is one base off etc... it can still match.  \n",
    "This would be very useful in the future if you want to incorporate some error corrected barcodes.  "
   ]
  },
  {
   "cell_type": "code",
   "execution_count": 13,
   "id": "ecf64662-41d1-4ce7-89a0-d88287a05f05",
   "metadata": {},
   "outputs": [],
   "source": [
    "# Lets take our original sequence and add a 1 base error\n",
    "seq_1baseBCerr = 'GAAGGGAGTGTAAGGCTANGAGTTATAGTCTGTCTCTTATACACATCTCCGAGCCCACGAGACTAAGGCGAACCTCGTATGCCGTCTTCTGCTTGAAAAA'"
   ]
  },
  {
   "cell_type": "code",
   "execution_count": 14,
   "id": "484b081d-d957-465b-8cb8-b837d4b42cd4",
   "metadata": {},
   "outputs": [],
   "source": [
    "# Now the normal barcodepattern will not be able to match the barcode.\n",
    "match = regex.search(barcodePattern, seq_1baseBCerr)\n",
    "match"
   ]
  },
  {
   "cell_type": "code",
   "execution_count": 15,
   "id": "9662bb23-810c-44ed-a77e-39d949f394aa",
   "metadata": {},
   "outputs": [],
   "source": [
    "# Lets introduce a 1 base tolerace to the barcodepattern.\n",
    "barcodePattern_1hamming = '^(?P<umi_1>.{12})' \\\n",
    "               '(?P<discard_1>.*)' \\\n",
    "               '(?P<cell_1>(GTTAGG){s<=1}|(AGGGTA){s<=1})' \\\n",
    "               '(?P<discard_2>TGAGTTAT){s<=2}' \\\n",
    "               '(?P<discard_3>.{8})' \\\n",
    "               '.{15,40}+' \\\n",
    "               '(?P<discard_4>AAAAAAAAAAA.*|CTGTCTCTTAT.*|.*$)'"
   ]
  },
  {
   "cell_type": "code",
   "execution_count": 16,
   "id": "9254539d-fe35-43ba-a4f2-0333bf568f2c",
   "metadata": {},
   "outputs": [
    {
     "data": {
      "text/plain": [
       "<regex.Match object; span=(0, 100), match='GAAGGGAGTGTAAGGCTANGAGTTATAGTCTGTCTCTTATACACATCTCCGAGCCCACGAGACTAAGGCGAACCTCGTATGCCGTCTTCTGCTTGAAAAA', fuzzy_counts=(2, 0, 0)>"
      ]
     },
     "execution_count": 16,
     "metadata": {},
     "output_type": "execute_result"
    }
   ],
   "source": [
    "match = regex.search(barcodePattern_1hamming, seq_1baseBCerr)\n",
    "match"
   ]
  },
  {
   "cell_type": "code",
   "execution_count": 17,
   "id": "214b8534-68ab-451b-8bb0-0a7fda7ff973",
   "metadata": {},
   "outputs": [
    {
     "data": {
      "text/plain": [
       "{'umi_1': 'GAAGGGAGTGTA',\n",
       " 'discard_1': '',\n",
       " 'cell_1': 'AGGCTA',\n",
       " 'discard_2': 'NGAGTTAT',\n",
       " 'discard_3': 'AGTCTGTC',\n",
       " 'discard_4': 'TCGTATGCCGTCTTCTGCTTGAAAAA'}"
      ]
     },
     "execution_count": 17,
     "metadata": {},
     "output_type": "execute_result"
    }
   ],
   "source": [
    "match.groupdict()"
   ]
  },
  {
   "cell_type": "markdown",
   "id": "81705dff-0266-4ded-b4ec-1333101c2660",
   "metadata": {},
   "source": [
    "### Now you are ready!\n",
    "Now you can modify the regex pattern however you want!  \n",
    "In the future you may want to use more barcodes, or add more sequences to the match etc...  \n",
    "Everything is done with the regex string"
   ]
  },
  {
   "cell_type": "code",
   "execution_count": null,
   "id": "4a08a4a9-c347-4fa5-9839-39659c19de52",
   "metadata": {},
   "outputs": [],
   "source": []
  }
 ],
 "metadata": {
  "kernelspec": {
   "display_name": "LSEnv",
   "language": "python",
   "name": "lsenv"
  },
  "language_info": {
   "codemirror_mode": {
    "name": "ipython",
    "version": 3
   },
   "file_extension": ".py",
   "mimetype": "text/x-python",
   "name": "python",
   "nbconvert_exporter": "python",
   "pygments_lexer": "ipython3",
   "version": "3.7.5"
  }
 },
 "nbformat": 4,
 "nbformat_minor": 5
}
