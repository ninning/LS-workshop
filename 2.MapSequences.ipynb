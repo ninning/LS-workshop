{
 "cells": [
  {
   "cell_type": "markdown",
   "id": "c2d806ee-3f80-4ef4-9f40-7c3780157f82",
   "metadata": {},
   "source": [
    "### Mapping the trimmed sequences to the STAR aligner\n",
    "The next step is to map the trimmed sequences to the genome/transcriptome with the STAR aligner.  \n",
    "Unfortunately I will not be able to run that here because the STAR aligner typically requires 32 gB of memory.  \n",
    "Building an index will also take up 20-30 gB of free space and sometimes 64 gB of memory.  \n",
    "\n",
    "This is where you will need the o2 cluster. Or a high end workstation. Or AWS (...F**ing bezos).  \n",
    "However, I can install the STAR aligner locally to go over the options we use."
   ]
  },
  {
   "cell_type": "markdown",
   "id": "16e23d52-710d-4770-a2a9-8f97ccdf2a58",
   "metadata": {},
   "source": [
    "### Installation on my Mac. Adapted from the STAR github website\n",
    "Download the codebase from the github.  \n",
    "https://github.com/alexdobin/STAR\n",
    "```\n",
    "make STARforMacStatic CXX=/usr/local/Cellar/gcc/11.2.0/bin/g++-11\n",
    "```"
   ]
  },
  {
   "cell_type": "code",
   "execution_count": 1,
   "id": "6656e379-40d4-4b50-b73b-7bb1befe69ad",
   "metadata": {},
   "outputs": [
    {
     "name": "stdout",
     "output_type": "stream",
     "text": [
      "gcc: stable 11.2.0 (bottled), HEAD\n",
      "GNU compiler collection\n",
      "\u001b[4mhttps://gcc.gnu.org/\u001b[24m\n",
      "/usr/local/Cellar/gcc/11.2.0 (2,165 files, 462.7MB) *\n",
      "  Poured from bottle on 2022-04-22 at 13:30:05\n",
      "From: \u001b[4mhttps://github.com/Homebrew/homebrew-core/blob/HEAD/Formula/gcc.rb\u001b[24m\n",
      "License: GPL-3.0-or-later with GCC-exception-3.1\n",
      "\u001b[34m==>\u001b[0m \u001b[1mDependencies\u001b[0m\n",
      "Required: \u001b[1mgmp \u001b[32m✔\u001b[0m\u001b[0m, \u001b[1misl \u001b[32m✔\u001b[0m\u001b[0m, \u001b[1mlibmpc \u001b[32m✔\u001b[0m\u001b[0m, \u001b[1mmpfr \u001b[32m✔\u001b[0m\u001b[0m, \u001b[1mzstd \u001b[32m✔\u001b[0m\u001b[0m\n",
      "\u001b[34m==>\u001b[0m \u001b[1mOptions\u001b[0m\n",
      "--HEAD\n",
      "\tInstall HEAD version\n"
     ]
    }
   ],
   "source": [
    "# Note the path that I used had to be adapted to my gcc version\n",
    "!brew info gcc"
   ]
  },
  {
   "cell_type": "code",
   "execution_count": 2,
   "id": "194e393a-429b-42e5-82c4-7531e05a900d",
   "metadata": {},
   "outputs": [
    {
     "name": "stdout",
     "output_type": "stream",
     "text": [
      "Usage: STAR  [options]... --genomeDir /path/to/genome/index/   --readFilesIn R1.fq R2.fq\n",
      "Spliced Transcripts Alignment to a Reference (c) Alexander Dobin, 2009-2022\n",
      "\n",
      "STAR version=2.7.10a_alpha_220314\n",
      "STAR compilation time,server,dir= :/Users/ninning/downloads/STAR-master/source\n",
      "For more details see:\n",
      "<https://github.com/alexdobin/STAR>\n",
      "<https://github.com/alexdobin/STAR/blob/master/doc/STARmanual.pdf>\n",
      "\n",
      "To list all parameters, run STAR --help\n"
     ]
    }
   ],
   "source": [
    "# Once its compiled, you can set the path to be recognized by your terminal and you can call it directly.\n",
    "# e.g. Github website has the instructions.\n",
    "!STAR"
   ]
  },
  {
   "cell_type": "markdown",
   "id": "e2a36192-5e2f-4927-899b-9cbebeead131",
   "metadata": {},
   "source": [
    "### After compiling STAR\n",
    "After compiling you can set the path to the `$cp STAR /usr/local/bin` so that you can call it directly from your terminal.  \n",
    "You can also do this on o2 but setting path permissions is a bit of a headache (or at least when i tried).  \n",
    "Instead you can call it on o2 by directing it to the path instead of calling it directly. Examples given below:  \n",
    "```\n",
    "(LSEnv) nl82@compute-a-17-115:/n/data1/hms/sysbio/yin/Ninning/STAR-2.7.10a/source$ STAR\n",
    "bash: STAR: command not found\n",
    "```\n",
    "The STAR command is not found even though its clearly installed there. <br/><br/>\n",
    "\n",
    "\n",
    "Instead set it to the directory like this `./STAR`. Which is what we ended up doing for LS.  \n",
    "```\n",
    "(LSEnv) nl82@compute-a-17-115:/n/data1/hms/sysbio/yin/Ninning/STAR-2.7.10a/source$ ./STAR\n",
    "Usage: STAR  [options]... --genomeDir /path/to/genome/index/   --readFilesIn R1.fq R2.fq\n",
    "Spliced Transcripts Alignment to a Reference (c) Alexander Dobin, 2009-2020\n",
    "\n",
    "STAR version=2.7.10a\n",
    "STAR compilation time,server,dir=2022-03-11T12:35:50-0500 login05.o2.rc.hms.harvard.edu:/n/data1/hms/sysbio/yin/Ninning/STAR-2.7.10a/source\n",
    "For more details see:\n",
    "<https://github.com/alexdobin/STAR>\n",
    "<https://github.com/alexdobin/STAR/blob/master/doc/STARmanual.pdf>\n",
    "\n",
    "To list all parameters, run STAR --help\n",
    "```"
   ]
  },
  {
   "cell_type": "code",
   "execution_count": null,
   "id": "f2eaaf2a-d5ff-4917-b097-b5d20dcb0f8b",
   "metadata": {},
   "outputs": [],
   "source": []
  },
  {
   "cell_type": "markdown",
   "id": "d6fe0034-e59a-400d-af80-0e88d5a0c09f",
   "metadata": {},
   "source": [
    "### Mapping with STAR\n",
    "So we now map. The main options we use is `--outFilterMultimapNmax 1` which is essentially unique maps only.  \n",
    "STAR aligner documentation is about 50 pages.\n",
    "https://physiology.med.cornell.edu/faculty/skrabanek/lab/angsd/lecture_notes/STARmanual.pdf\n",
    "\n",
    "So theres lots of other options that are available.\n",
    "```\n",
    "Mapping to mouse genome...\n",
    "\t../STAR-2.7.10a/source/STAR --runThreadN 12 --quantMode TranscriptomeSAM GeneCounts GeneCounts --genomeDir ../GRCm39_Indexed --readFilesIn outFiles/TLS23A_R1_trimmed.fastq.gz --outFileNamePrefix outFiles/TLS23A_R1_Mouse --readFilesCommand zcat --outFilterMultimapNmax 1 --outSAMtype BAM SortedByCoordinate\n",
    "\tSTAR version: 2.7.10a   compiled: 2022-03-11T12:35:50-0500 login05.o2.rc.hms.harvard.edu:/n/data1/hms/sysbio/yin/Ninning/STAR-2.7.10a/source\n",
    "Apr 22 13:16:58 ..... started STAR run\n",
    "Apr 22 13:16:58 ..... loading genome\n",
    "Apr 22 13:17:57 ..... started mapping\n",
    "Apr 22 13:18:21 ..... finished mapping\n",
    "Apr 22 13:18:25 ..... started sorting BAM\n",
    "Apr 22 13:18:28 ..... finished successfully\n",
    "```"
   ]
  },
  {
   "cell_type": "code",
   "execution_count": null,
   "id": "154bba0f-bedb-4ffd-8945-f05a175325ab",
   "metadata": {},
   "outputs": [],
   "source": []
  }
 ],
 "metadata": {
  "kernelspec": {
   "display_name": "LSEnv",
   "language": "python",
   "name": "lsenv"
  },
  "language_info": {
   "codemirror_mode": {
    "name": "ipython",
    "version": 3
   },
   "file_extension": ".py",
   "mimetype": "text/x-python",
   "name": "python",
   "nbconvert_exporter": "python",
   "pygments_lexer": "ipython3",
   "version": "3.7.5"
  }
 },
 "nbformat": 4,
 "nbformat_minor": 5
}
